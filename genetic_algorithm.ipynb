{
  "nbformat": 4,
  "nbformat_minor": 0,
  "metadata": {
    "colab": {
      "provenance": []
    },
    "kernelspec": {
      "name": "python3",
      "display_name": "Python 3"
    },
    "language_info": {
      "name": "python"
    }
  },
  "cells": [
    {
      "cell_type": "markdown",
      "source": [
        "#Genetic Algorithm\n",
        "What are we doing?\n",
        "\n",
        "Imagine you're going on a treasure hunt. Your bag can carry only a limited weight, but there are various items with different weights and values. The goal is to pack the bag with items that give you the most value without exceeding the weight limit. We will use Genetic Algorithms to solve this problem.\n",
        "\n",
        "\n",
        "The below example consist of packing a bag using some items chosen from the list below. The value of each item is based on the number of likes on a E-Commerce website.\n",
        "\n",
        "<img src = 'https://drive.google.com/uc?id=1GCfDsCiABip8QSGYOHBhG190FWzHIbpE' width = 600>\n",
        "\n",
        "<img src = 'https://drive.google.com/uc?id=1hAec8qFAh9_OAUxyuPUXswMK1vf2I3Zy' width = 600>\n",
        "\n",
        "The first step in using genetic algorithm is to encode the data into gene.\n",
        "Here, the gene will consist of 0s and 1s. So, we’ll represent the solution as a string of 0s and 1s.\n",
        "\n",
        "1: item packed\n",
        "\n",
        "0: item not packed\n",
        "\n",
        "\n",
        "For instance in the below sample, we're only packing the phone, mints, laptop, tissues, and the water bottle.\n",
        "\n",
        "<img src = 'https://drive.google.com/uc?id=1lHCO2DK8Psj8GNvalzVhEaM4ddi30eaV' width = 600>\n",
        "\n",
        "This combination gives us a total value packed of 1050 as shown below:\n",
        "\n",
        "<img src = 'https://drive.google.com/uc?id=1kGkPzq-AWXQGYYoRtJD8S6_hqaqq9iAm' width = 600>\n",
        "\n",
        "The below is just an example on how to use a fitness function, i.e., $f(x) = x^2$ to solve similar optimization problems to get the optimal solution possible.\n"
      ],
      "metadata": {
        "id": "Ash_17yIsWxc"
      }
    },
    {
      "cell_type": "markdown",
      "source": [],
      "metadata": {
        "id": "9rrA5DFHGHsl"
      }
    },
    {
      "cell_type": "markdown",
      "source": [
        "#Generating the population\n",
        "\n",
        "In this examle, we'll use the fitness function $f(x) = x^2$  to guide our simulations towards optimal design solutions."
      ],
      "metadata": {
        "id": "CwYXjsTn6-Yx"
      }
    },
    {
      "cell_type": "code",
      "source": [
        "import numpy as np\n",
        "import pandas as pd\n",
        "\n",
        "initial_population = np.array ([\n",
        "    [0, 1, 0, 1, 0, 0, 1, 0, 1, 1],\n",
        "    [1, 1, 1, 1, 1, 0, 1, 1, 1, 1],\n",
        "    [0, 1, 1, 1, 1, 1, 1, 1, 1, 0],\n",
        "    [1, 0, 1, 1, 0, 1, 0, 1, 1, 0],\n",
        "    [1, 0, 1, 0, 0, 1, 1, 0, 1, 1]])\n",
        "\n",
        "print(initial_population)"
      ],
      "metadata": {
        "colab": {
          "base_uri": "https://localhost:8080/"
        },
        "id": "SECQOugUWJmn",
        "outputId": "281009a5-3da9-419f-b6bd-63a0b18d7d99"
      },
      "execution_count": 1,
      "outputs": [
        {
          "output_type": "stream",
          "name": "stdout",
          "text": [
            "[[0 1 0 1 0 0 1 0 1 1]\n",
            " [1 1 1 1 1 0 1 1 1 1]\n",
            " [0 1 1 1 1 1 1 1 1 0]\n",
            " [1 0 1 1 0 1 0 1 1 0]\n",
            " [1 0 1 0 0 1 1 0 1 1]]\n"
          ]
        }
      ]
    },
    {
      "cell_type": "code",
      "source": [],
      "metadata": {
        "id": "qe2kKPWbZA5u"
      },
      "execution_count": null,
      "outputs": []
    },
    {
      "cell_type": "markdown",
      "source": [
        "#Compute the fitness scores\n",
        "\n",
        "The fitness scores are comparable to the example value we had by packing for instance the phone, mints, laptop, tissues, and the water bottle in the previously."
      ],
      "metadata": {
        "id": "bGEvaHNt5uVD"
      }
    },
    {
      "cell_type": "code",
      "source": [
        "def fitness(x):\n",
        "  return sum(x)**2"
      ],
      "metadata": {
        "id": "AynltAZGZA2E"
      },
      "execution_count": 2,
      "outputs": []
    },
    {
      "cell_type": "code",
      "source": [
        "fitness_scores = np.apply_along_axis(fitness, 1, initial_population)\n",
        "fitness_scores"
      ],
      "metadata": {
        "colab": {
          "base_uri": "https://localhost:8080/"
        },
        "id": "ggKiyQLUZAxu",
        "outputId": "96515fcd-9aa0-4147-a2e3-d0351d0be69b"
      },
      "execution_count": 3,
      "outputs": [
        {
          "output_type": "execute_result",
          "data": {
            "text/plain": [
              "array([25, 81, 64, 36, 36])"
            ]
          },
          "metadata": {},
          "execution_count": 3
        }
      ]
    },
    {
      "cell_type": "code",
      "source": [],
      "metadata": {
        "id": "pR3rTwoQZLUi"
      },
      "execution_count": null,
      "outputs": []
    },
    {
      "cell_type": "markdown",
      "source": [
        "#Selection\n",
        "We're selecting the individuals with the highest fitness score in descending order."
      ],
      "metadata": {
        "id": "fqPP4oQ_6RxT"
      }
    },
    {
      "cell_type": "code",
      "source": [
        "def select_parents(fitness_scores):\n",
        "    parents = np.argsort(fitness_scores)[-2:][::-1]\n",
        "    return parents\n",
        "\n",
        "selected_parents = select_parents(fitness_scores)\n",
        "selected_parents"
      ],
      "metadata": {
        "colab": {
          "base_uri": "https://localhost:8080/"
        },
        "id": "mAgzO69IZLPT",
        "outputId": "6d99da75-0ce7-4a5b-8166-3765232c7429"
      },
      "execution_count": 5,
      "outputs": [
        {
          "output_type": "execute_result",
          "data": {
            "text/plain": [
              "array([1, 2])"
            ]
          },
          "metadata": {},
          "execution_count": 5
        }
      ]
    },
    {
      "cell_type": "code",
      "source": [],
      "metadata": {
        "id": "r6O0wb_OgGYj"
      },
      "execution_count": null,
      "outputs": []
    },
    {
      "cell_type": "markdown",
      "source": [
        "#Crossover"
      ],
      "metadata": {
        "id": "olf20MKU6dYu"
      }
    },
    {
      "cell_type": "code",
      "source": [
        "def crossover(parent1, parent2):\n",
        "    crossover_point = np.random.randint(1, len(parent1) - 1)\n",
        "    print(crossover_point)\n",
        "    child = np.concatenate((parent1[:crossover_point], parent2[crossover_point:]))\n",
        "    return child\n",
        "\n",
        "\n",
        "\n",
        "child = crossover(initial_population[selected_parents[0]], initial_population[selected_parents[1]])\n",
        "child"
      ],
      "metadata": {
        "colab": {
          "base_uri": "https://localhost:8080/"
        },
        "id": "HWjjvwq7ZRHr",
        "outputId": "eaa31c3b-2da0-4965-b7e2-e6c28db5dfad"
      },
      "execution_count": 6,
      "outputs": [
        {
          "output_type": "stream",
          "name": "stdout",
          "text": [
            "3\n"
          ]
        },
        {
          "output_type": "execute_result",
          "data": {
            "text/plain": [
              "array([1, 1, 1, 1, 1, 1, 1, 1, 1, 0])"
            ]
          },
          "metadata": {},
          "execution_count": 6
        }
      ]
    },
    {
      "cell_type": "code",
      "source": [],
      "metadata": {
        "id": "S-c0olb8ZRDV"
      },
      "execution_count": 71,
      "outputs": []
    },
    {
      "cell_type": "markdown",
      "source": [
        "# Mutation\n",
        "To maintain diversity, we apply random mutations:"
      ],
      "metadata": {
        "id": "94Qu9o5U6vw1"
      }
    },
    {
      "cell_type": "code",
      "source": [
        "def mutate(child):\n",
        "    mutation_point = np.random.randint(len(child))\n",
        "\n",
        "    child[mutation_point] = 1 - child[mutation_point]\n",
        "    print(mutation_point)\n",
        "\n",
        "    return child\n",
        "print(\"Original: \", child)\n",
        "mutated_child = mutate(child)\n",
        "print(\"Mutated:  \",mutated_child)"
      ],
      "metadata": {
        "colab": {
          "base_uri": "https://localhost:8080/"
        },
        "id": "XV00g5EeZQ-0",
        "outputId": "15b95716-9c42-43b7-d2cd-6a0a886604be"
      },
      "execution_count": 7,
      "outputs": [
        {
          "output_type": "stream",
          "name": "stdout",
          "text": [
            "Original:  [1 1 1 1 1 1 1 1 1 0]\n",
            "9\n",
            "Mutated:   [1 1 1 1 1 1 1 1 1 1]\n"
          ]
        }
      ]
    },
    {
      "cell_type": "code",
      "source": [],
      "metadata": {
        "id": "sOi6TLI3ZAtL"
      },
      "execution_count": null,
      "outputs": []
    },
    {
      "cell_type": "code",
      "source": [
        "def elitism(population, fitness_scores, elite_size=2):\n",
        "    elite_indices = np.argsort(fitness_scores)[-elite_size:]\n",
        "\n",
        "    elite_individuals = population[elite_indices]\n",
        "     #2:[0 1 1 1 1 1 1 1 1 0] and 1:[1 1 1 1 1 1 1 1 1 0]\n",
        "    return elite_individuals\n",
        "\n",
        "# Initialize variables\n",
        "generations = 10\n",
        "population = initial_population\n",
        "population_size = 20\n",
        "chromosome_length = 10\n",
        "\n",
        "# Loop through each generation\n",
        "for generation in range(generations):\n",
        "    # Calculate fitness\n",
        "    fitness_scores = np.apply_along_axis(fitness, 1, population)\n",
        "\n",
        "    # Elitism: Select top individuals\n",
        "    elites = elitism(population, fitness_scores)\n",
        "\n",
        "    # Selection\n",
        "    selected_parents_indices = select_parents(fitness_scores)\n",
        "    selected_parents = population[selected_parents_indices]\n",
        "\n",
        "    # Crossover and Mutation\n",
        "    children = []\n",
        "    while len(children) < population_size - len(elites):\n",
        "        parent1, parent2 = selected_parents\n",
        "         #parent1, parent2 = [1, 2]\n",
        "        child = crossover(parent1, parent2)\n",
        "        child = mutate(child)\n",
        "        children.append(child)\n",
        "\n",
        "    # Create new population\n",
        "    print(children)\n",
        "    population = np.vstack([elites, children])\n",
        ""
      ],
      "metadata": {
        "colab": {
          "base_uri": "https://localhost:8080/"
        },
        "id": "DNs8ZokIYl5g",
        "outputId": "019fe633-c018-46d8-b5b4-8c918d5d754f"
      },
      "execution_count": 8,
      "outputs": [
        {
          "output_type": "stream",
          "name": "stdout",
          "text": [
            "1\n",
            "9\n",
            "4\n",
            "0\n",
            "4\n",
            "4\n",
            "6\n",
            "9\n",
            "3\n",
            "6\n",
            "7\n",
            "8\n",
            "1\n",
            "9\n",
            "7\n",
            "3\n",
            "3\n",
            "0\n",
            "5\n",
            "3\n",
            "2\n",
            "9\n",
            "5\n",
            "8\n",
            "1\n",
            "0\n",
            "6\n",
            "3\n",
            "8\n",
            "1\n",
            "2\n",
            "4\n",
            "5\n",
            "3\n",
            "1\n",
            "3\n",
            "[array([1, 1, 1, 1, 1, 1, 1, 1, 1, 1]), array([0, 1, 1, 1, 1, 1, 1, 1, 1, 0]), array([1, 1, 1, 1, 0, 1, 1, 1, 1, 0]), array([1, 1, 1, 1, 1, 0, 1, 1, 1, 1]), array([1, 1, 1, 1, 1, 1, 0, 1, 1, 0]), array([1, 1, 1, 1, 1, 0, 1, 1, 0, 0]), array([1, 1, 1, 1, 1, 1, 1, 1, 1, 1]), array([1, 1, 1, 0, 1, 0, 1, 1, 1, 0]), array([0, 1, 1, 1, 1, 1, 1, 1, 1, 0]), array([1, 1, 1, 0, 1, 1, 1, 1, 1, 0]), array([1, 1, 1, 1, 1, 1, 1, 1, 1, 1]), array([1, 1, 1, 1, 1, 1, 1, 1, 0, 0]), array([0, 1, 1, 1, 1, 1, 1, 1, 1, 0]), array([1, 1, 1, 0, 1, 0, 1, 1, 1, 0]), array([1, 0, 1, 1, 1, 0, 1, 1, 1, 0]), array([1, 1, 1, 1, 0, 1, 1, 1, 1, 0]), array([1, 1, 1, 0, 1, 1, 1, 1, 1, 0]), array([1, 1, 1, 0, 1, 1, 1, 1, 1, 0])]\n",
            "5\n",
            "7\n",
            "7\n",
            "7\n",
            "6\n",
            "1\n",
            "6\n",
            "4\n",
            "2\n",
            "8\n",
            "6\n",
            "0\n",
            "1\n",
            "7\n",
            "7\n",
            "0\n",
            "1\n",
            "5\n",
            "6\n",
            "7\n",
            "7\n",
            "7\n",
            "7\n",
            "7\n",
            "1\n",
            "7\n",
            "1\n",
            "7\n",
            "6\n",
            "9\n",
            "2\n",
            "5\n",
            "7\n",
            "7\n",
            "7\n",
            "2\n",
            "[array([1, 1, 1, 1, 1, 1, 1, 0, 1, 1]), array([1, 1, 1, 1, 1, 1, 1, 0, 1, 1]), array([1, 0, 1, 1, 1, 1, 1, 1, 1, 1]), array([1, 1, 1, 1, 0, 1, 1, 1, 1, 1]), array([1, 1, 1, 1, 1, 1, 1, 1, 0, 1]), array([0, 1, 1, 1, 1, 1, 1, 1, 1, 1]), array([1, 1, 1, 1, 1, 1, 1, 0, 1, 1]), array([0, 1, 1, 1, 1, 1, 1, 1, 1, 1]), array([1, 1, 1, 1, 1, 0, 1, 1, 1, 1]), array([1, 1, 1, 1, 1, 1, 1, 0, 1, 1]), array([1, 1, 1, 1, 1, 1, 1, 0, 1, 1]), array([1, 1, 1, 1, 1, 1, 1, 0, 1, 1]), array([1, 1, 1, 1, 1, 1, 1, 0, 1, 1]), array([1, 1, 1, 1, 1, 1, 1, 0, 1, 1]), array([1, 1, 1, 1, 1, 1, 1, 1, 1, 0]), array([1, 1, 1, 1, 1, 0, 1, 1, 1, 1]), array([1, 1, 1, 1, 1, 1, 1, 0, 1, 1]), array([1, 1, 0, 1, 1, 1, 1, 1, 1, 1])]\n",
            "6\n",
            "9\n",
            "3\n",
            "5\n",
            "4\n",
            "3\n",
            "5\n",
            "0\n",
            "3\n",
            "3\n",
            "3\n",
            "0\n",
            "2\n",
            "9\n",
            "8\n",
            "8\n",
            "8\n",
            "3\n",
            "5\n",
            "4\n",
            "7\n",
            "5\n",
            "4\n",
            "8\n",
            "8\n",
            "6\n",
            "1\n",
            "8\n",
            "8\n",
            "6\n",
            "3\n",
            "8\n",
            "1\n",
            "4\n",
            "7\n",
            "4\n",
            "[array([1, 1, 1, 1, 1, 1, 1, 1, 1, 0]), array([1, 1, 1, 1, 1, 0, 1, 1, 1, 1]), array([1, 1, 1, 0, 1, 1, 1, 1, 1, 1]), array([0, 1, 1, 1, 1, 1, 1, 1, 1, 1]), array([1, 1, 1, 0, 1, 1, 1, 1, 1, 1]), array([0, 1, 1, 1, 1, 1, 1, 1, 1, 1]), array([1, 1, 1, 1, 1, 1, 1, 1, 1, 0]), array([1, 1, 1, 1, 1, 1, 1, 1, 0, 1]), array([1, 1, 1, 0, 1, 1, 1, 1, 1, 1]), array([1, 1, 1, 1, 0, 1, 1, 1, 1, 1]), array([1, 1, 1, 1, 1, 0, 1, 1, 1, 1]), array([1, 1, 1, 1, 1, 1, 1, 1, 0, 1]), array([1, 1, 1, 1, 1, 1, 0, 1, 1, 1]), array([1, 1, 1, 1, 1, 1, 1, 1, 0, 1]), array([1, 1, 1, 1, 1, 1, 0, 1, 1, 1]), array([1, 1, 1, 1, 1, 1, 1, 1, 0, 1]), array([1, 1, 1, 1, 0, 1, 1, 1, 1, 1]), array([1, 1, 1, 1, 0, 1, 1, 1, 1, 1])]\n",
            "6\n",
            "7\n",
            "2\n",
            "1\n",
            "7\n",
            "3\n",
            "4\n",
            "9\n",
            "4\n",
            "7\n",
            "3\n",
            "4\n",
            "5\n",
            "0\n",
            "7\n",
            "7\n",
            "7\n",
            "0\n",
            "2\n",
            "9\n",
            "4\n",
            "1\n",
            "3\n",
            "3\n",
            "8\n",
            "5\n",
            "3\n",
            "6\n",
            "5\n",
            "1\n",
            "5\n",
            "4\n",
            "8\n",
            "1\n",
            "6\n",
            "3\n",
            "[array([1, 1, 1, 1, 1, 1, 1, 0, 1, 1]), array([1, 0, 1, 1, 1, 1, 1, 1, 1, 1]), array([1, 1, 1, 0, 1, 1, 1, 1, 1, 1]), array([1, 1, 1, 1, 1, 1, 1, 1, 1, 0]), array([1, 1, 1, 1, 1, 1, 1, 0, 1, 1]), array([1, 1, 1, 1, 0, 1, 1, 1, 1, 1]), array([0, 1, 1, 1, 1, 1, 1, 1, 1, 1]), array([1, 1, 1, 1, 1, 1, 1, 0, 1, 1]), array([0, 1, 1, 1, 1, 1, 1, 1, 1, 1]), array([1, 1, 1, 1, 1, 1, 1, 1, 1, 0]), array([1, 0, 1, 1, 1, 1, 1, 1, 1, 1]), array([1, 1, 1, 0, 1, 1, 1, 1, 1, 1]), array([1, 1, 1, 1, 1, 0, 1, 1, 1, 1]), array([1, 1, 1, 1, 1, 1, 0, 1, 1, 1]), array([1, 0, 1, 1, 1, 1, 1, 1, 1, 1]), array([1, 1, 1, 1, 0, 1, 1, 1, 1, 1]), array([1, 0, 1, 1, 1, 1, 1, 1, 1, 1]), array([1, 1, 1, 0, 1, 1, 1, 1, 1, 1])]\n",
            "3\n",
            "8\n",
            "5\n",
            "0\n",
            "6\n",
            "1\n",
            "7\n",
            "3\n",
            "7\n",
            "8\n",
            "3\n",
            "4\n",
            "2\n",
            "8\n",
            "1\n",
            "1\n",
            "6\n",
            "3\n",
            "1\n",
            "3\n",
            "5\n",
            "1\n",
            "2\n",
            "8\n",
            "2\n",
            "2\n",
            "5\n",
            "6\n",
            "8\n",
            "6\n",
            "6\n",
            "9\n",
            "7\n",
            "1\n",
            "8\n",
            "0\n",
            "[array([1, 1, 1, 1, 1, 1, 1, 1, 0, 1]), array([0, 1, 1, 1, 1, 1, 1, 1, 1, 1]), array([1, 0, 1, 1, 1, 1, 1, 1, 1, 1]), array([1, 1, 1, 0, 1, 1, 1, 1, 1, 1]), array([1, 1, 1, 1, 1, 1, 1, 1, 0, 1]), array([1, 1, 1, 1, 0, 1, 1, 1, 1, 1]), array([1, 1, 1, 1, 1, 1, 1, 1, 0, 1]), array([1, 0, 1, 1, 1, 1, 1, 1, 1, 1]), array([1, 1, 1, 0, 1, 1, 1, 1, 1, 1]), array([1, 1, 1, 0, 1, 1, 1, 1, 1, 1]), array([1, 0, 1, 1, 1, 1, 1, 1, 1, 1]), array([1, 1, 1, 1, 1, 1, 1, 1, 0, 1]), array([1, 1, 0, 1, 1, 1, 1, 1, 1, 1]), array([1, 1, 1, 1, 1, 1, 0, 1, 1, 1]), array([1, 1, 1, 1, 1, 1, 0, 1, 1, 1]), array([1, 1, 1, 1, 1, 1, 1, 1, 1, 0]), array([1, 0, 1, 1, 1, 1, 1, 1, 1, 1]), array([0, 1, 1, 1, 1, 1, 1, 1, 1, 1])]\n",
            "3\n",
            "8\n",
            "1\n",
            "0\n",
            "6\n",
            "5\n",
            "4\n",
            "6\n",
            "7\n",
            "1\n",
            "4\n",
            "4\n",
            "8\n",
            "3\n",
            "8\n",
            "6\n",
            "3\n",
            "8\n",
            "7\n",
            "1\n",
            "2\n",
            "1\n",
            "8\n",
            "7\n",
            "6\n",
            "6\n",
            "1\n",
            "6\n",
            "2\n",
            "3\n",
            "2\n",
            "1\n",
            "4\n",
            "0\n",
            "5\n",
            "7\n",
            "[array([1, 1, 1, 1, 1, 1, 1, 1, 0, 1]), array([0, 1, 1, 1, 1, 1, 1, 1, 1, 1]), array([1, 1, 1, 1, 1, 0, 1, 1, 1, 1]), array([1, 1, 1, 1, 1, 1, 0, 1, 1, 1]), array([1, 0, 1, 1, 1, 1, 1, 1, 1, 1]), array([1, 1, 1, 1, 0, 1, 1, 1, 1, 1]), array([1, 1, 1, 0, 1, 1, 1, 1, 1, 1]), array([1, 1, 1, 1, 1, 1, 0, 1, 1, 1]), array([1, 1, 1, 1, 1, 1, 1, 1, 0, 1]), array([1, 0, 1, 1, 1, 1, 1, 1, 1, 1]), array([1, 0, 1, 1, 1, 1, 1, 1, 1, 1]), array([1, 1, 1, 1, 1, 1, 1, 0, 1, 1]), array([1, 1, 1, 1, 1, 1, 0, 1, 1, 1]), array([1, 1, 1, 1, 1, 1, 0, 1, 1, 1]), array([1, 1, 1, 0, 1, 1, 1, 1, 1, 1]), array([1, 0, 1, 1, 1, 1, 1, 1, 1, 1]), array([0, 1, 1, 1, 1, 1, 1, 1, 1, 1]), array([1, 1, 1, 1, 1, 1, 1, 0, 1, 1])]\n",
            "8\n",
            "4\n",
            "4\n",
            "7\n",
            "7\n",
            "1\n",
            "6\n",
            "3\n",
            "7\n",
            "6\n",
            "2\n",
            "5\n",
            "5\n",
            "2\n",
            "3\n",
            "6\n",
            "4\n",
            "1\n",
            "6\n",
            "8\n",
            "4\n",
            "3\n",
            "3\n",
            "3\n",
            "7\n",
            "0\n",
            "2\n",
            "3\n",
            "1\n",
            "0\n",
            "4\n",
            "3\n",
            "3\n",
            "5\n",
            "2\n",
            "7\n",
            "[array([1, 1, 1, 1, 0, 1, 1, 1, 1, 1]), array([1, 1, 1, 1, 1, 1, 1, 0, 1, 1]), array([1, 0, 1, 1, 1, 1, 1, 1, 1, 1]), array([1, 1, 1, 0, 1, 1, 1, 1, 1, 1]), array([1, 1, 1, 1, 1, 1, 0, 1, 1, 1]), array([1, 1, 1, 1, 1, 0, 1, 1, 1, 1]), array([1, 1, 0, 1, 1, 1, 1, 1, 1, 1]), array([1, 1, 1, 1, 1, 1, 0, 1, 1, 1]), array([1, 0, 1, 1, 1, 1, 1, 1, 1, 1]), array([1, 1, 1, 1, 1, 1, 1, 1, 0, 1]), array([1, 1, 1, 0, 1, 1, 1, 1, 1, 1]), array([1, 1, 1, 0, 1, 1, 1, 1, 1, 1]), array([0, 1, 1, 1, 1, 1, 1, 1, 1, 1]), array([1, 1, 1, 0, 1, 1, 1, 1, 1, 1]), array([0, 1, 1, 1, 1, 1, 1, 1, 1, 1]), array([1, 1, 1, 0, 1, 1, 1, 1, 1, 1]), array([1, 1, 1, 1, 1, 0, 1, 1, 1, 1]), array([1, 1, 1, 1, 1, 1, 1, 0, 1, 1])]\n",
            "2\n",
            "9\n",
            "1\n",
            "5\n",
            "1\n",
            "2\n",
            "2\n",
            "5\n",
            "4\n",
            "5\n",
            "1\n",
            "7\n",
            "2\n",
            "3\n",
            "7\n",
            "7\n",
            "4\n",
            "4\n",
            "3\n",
            "6\n",
            "6\n",
            "8\n",
            "7\n",
            "0\n",
            "2\n",
            "8\n",
            "8\n",
            "3\n",
            "7\n",
            "6\n",
            "6\n",
            "4\n",
            "3\n",
            "1\n",
            "7\n",
            "7\n",
            "[array([1, 1, 1, 1, 1, 1, 1, 1, 1, 0]), array([1, 1, 1, 1, 1, 0, 1, 1, 1, 1]), array([1, 1, 0, 1, 1, 1, 1, 1, 1, 1]), array([1, 1, 1, 1, 1, 0, 1, 1, 1, 1]), array([1, 1, 1, 1, 1, 0, 1, 1, 1, 1]), array([1, 1, 1, 1, 1, 1, 1, 0, 1, 1]), array([1, 1, 1, 0, 1, 1, 1, 1, 1, 1]), array([1, 1, 1, 1, 1, 1, 1, 0, 1, 1]), array([1, 1, 1, 1, 0, 1, 1, 1, 1, 1]), array([1, 1, 1, 1, 1, 1, 0, 1, 1, 1]), array([1, 1, 1, 1, 1, 1, 1, 1, 0, 1]), array([0, 1, 1, 1, 1, 1, 1, 1, 1, 1]), array([1, 1, 1, 1, 1, 1, 1, 1, 0, 1]), array([1, 1, 1, 0, 1, 1, 1, 1, 1, 1]), array([1, 1, 1, 1, 1, 1, 0, 1, 1, 1]), array([1, 1, 1, 1, 0, 1, 1, 1, 1, 1]), array([1, 0, 1, 1, 1, 1, 1, 1, 1, 1]), array([1, 1, 1, 1, 1, 1, 1, 0, 1, 1])]\n",
            "7\n",
            "3\n",
            "4\n",
            "0\n",
            "6\n",
            "7\n",
            "7\n",
            "1\n",
            "7\n",
            "7\n",
            "7\n",
            "0\n",
            "7\n",
            "1\n",
            "6\n",
            "4\n",
            "4\n",
            "7\n",
            "4\n",
            "4\n",
            "8\n",
            "6\n",
            "3\n",
            "4\n",
            "5\n",
            "0\n",
            "4\n",
            "8\n",
            "6\n",
            "3\n",
            "2\n",
            "3\n",
            "6\n",
            "9\n",
            "2\n",
            "2\n",
            "[array([1, 1, 1, 0, 1, 1, 1, 1, 1, 1]), array([0, 1, 1, 1, 1, 1, 1, 1, 1, 1]), array([1, 1, 1, 1, 1, 1, 1, 0, 1, 1]), array([1, 0, 1, 1, 1, 1, 1, 1, 1, 1]), array([1, 1, 1, 1, 1, 1, 1, 0, 1, 1]), array([0, 1, 1, 1, 1, 1, 1, 1, 1, 1]), array([1, 0, 1, 1, 1, 1, 1, 1, 1, 1]), array([1, 1, 1, 1, 0, 1, 1, 1, 1, 1]), array([1, 1, 1, 1, 1, 1, 1, 0, 1, 1]), array([1, 1, 1, 1, 0, 1, 1, 1, 1, 1]), array([1, 1, 1, 1, 1, 1, 0, 1, 1, 1]), array([1, 1, 1, 1, 0, 1, 1, 1, 1, 1]), array([0, 1, 1, 1, 1, 1, 1, 1, 1, 1]), array([1, 1, 1, 1, 1, 1, 1, 1, 0, 1]), array([1, 1, 1, 0, 1, 1, 1, 1, 1, 1]), array([1, 1, 1, 0, 1, 1, 1, 1, 1, 1]), array([1, 1, 1, 1, 1, 1, 1, 1, 1, 0]), array([1, 1, 0, 1, 1, 1, 1, 1, 1, 1])]\n",
            "7\n",
            "1\n",
            "4\n",
            "3\n",
            "1\n",
            "6\n",
            "4\n",
            "1\n",
            "7\n",
            "2\n",
            "4\n",
            "6\n",
            "2\n",
            "6\n",
            "7\n",
            "1\n",
            "7\n",
            "7\n",
            "2\n",
            "5\n",
            "1\n",
            "4\n",
            "3\n",
            "2\n",
            "8\n",
            "0\n",
            "1\n",
            "1\n",
            "5\n",
            "3\n",
            "4\n",
            "6\n",
            "8\n",
            "5\n",
            "3\n",
            "0\n",
            "[array([1, 0, 1, 1, 1, 1, 1, 1, 1, 1]), array([1, 1, 1, 0, 1, 1, 1, 1, 1, 1]), array([1, 1, 1, 1, 1, 1, 0, 1, 1, 1]), array([1, 0, 1, 1, 1, 1, 1, 1, 1, 1]), array([1, 1, 0, 1, 1, 1, 1, 1, 1, 1]), array([1, 1, 1, 1, 1, 1, 0, 1, 1, 1]), array([1, 1, 1, 1, 1, 1, 0, 1, 1, 1]), array([1, 0, 1, 1, 1, 1, 1, 1, 1, 1]), array([1, 1, 1, 1, 1, 1, 1, 0, 1, 1]), array([1, 1, 1, 1, 1, 0, 1, 1, 1, 1]), array([1, 1, 1, 1, 0, 1, 1, 1, 1, 1]), array([1, 1, 0, 1, 1, 1, 1, 1, 1, 1]), array([0, 1, 1, 1, 1, 1, 1, 1, 1, 1]), array([1, 0, 1, 1, 1, 1, 1, 1, 1, 1]), array([1, 1, 1, 0, 1, 1, 1, 1, 1, 1]), array([1, 1, 1, 1, 1, 1, 0, 1, 1, 1]), array([1, 1, 1, 1, 1, 0, 1, 1, 1, 1]), array([0, 1, 1, 1, 1, 1, 1, 1, 1, 1])]\n"
          ]
        }
      ]
    },
    {
      "cell_type": "code",
      "source": [],
      "metadata": {
        "id": "fk3Po7X3Yl2j"
      },
      "execution_count": null,
      "outputs": []
    },
    {
      "cell_type": "code",
      "source": [],
      "metadata": {
        "id": "Cxn5LOrMYlzz"
      },
      "execution_count": null,
      "outputs": []
    },
    {
      "cell_type": "code",
      "source": [],
      "metadata": {
        "id": "sQsfk24zYlwv"
      },
      "execution_count": null,
      "outputs": []
    },
    {
      "cell_type": "code",
      "source": [],
      "metadata": {
        "id": "E_fObMRHYltr"
      },
      "execution_count": null,
      "outputs": []
    },
    {
      "cell_type": "code",
      "source": [],
      "metadata": {
        "id": "HbMHV-a_YlqS"
      },
      "execution_count": null,
      "outputs": []
    },
    {
      "cell_type": "code",
      "source": [],
      "metadata": {
        "id": "ZNjDdn9FYlmo"
      },
      "execution_count": null,
      "outputs": []
    },
    {
      "cell_type": "code",
      "source": [],
      "metadata": {
        "id": "X86mSgjOYljH"
      },
      "execution_count": null,
      "outputs": []
    },
    {
      "cell_type": "code",
      "execution_count": 6,
      "metadata": {
        "id": "9TsUSIdoV6Ld"
      },
      "outputs": [],
      "source": [
        "[0 1 0 1 0 0 1 0 1 1]\n",
        "[1 1 1 1 1 1 1 1 1 0]\n",
        "[0 1 1 1 1 1 1 1 1 0]\n",
        "[1 0 1 1 0 1 0 1 1 0]\n",
        "[1 0 1 0 0 1 1 0 1 1]"
      ]
    }
  ]
}